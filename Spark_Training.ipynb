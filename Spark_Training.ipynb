{
 "cells": [
  {
   "cell_type": "code",
   "execution_count": 13,
   "id": "390315eb",
   "metadata": {},
   "outputs": [],
   "source": [
    "from pyspark.sql import SparkSession\n",
    "from pyspark.sql.types import StructType, StructField, IntegerType, StringType, DateType\n",
    "from pyspark.sql.functions import *"
   ]
  },
  {
   "cell_type": "code",
   "execution_count": 14,
   "id": "403bb4de",
   "metadata": {},
   "outputs": [],
   "source": [
    "spark = SparkSession.builder.appName(\"CSVReadExample\").getOrCreate()"
   ]
  },
  {
   "cell_type": "code",
   "execution_count": 15,
   "id": "57ce6014",
   "metadata": {},
   "outputs": [],
   "source": [
    "employee_column =StructType([StructField(\"EMPLOYEE_ID\", IntegerType(), True),\n",
    "                              StructField(\"FIRST_NAME\", StringType(), True),\n",
    "                              StructField(\"LAST_NAME\", StringType(), True),\n",
    "                              StructField(\"EMAIL\", StringType(), True),\n",
    "                              StructField(\"PHONE_NUMBER\", IntegerType(), True),\n",
    "                              StructField(\"HIRE_DATE\", DateType(), True),\n",
    "                              StructField(\"JOB_ID\", StringType(), True),\n",
    "                              StructField(\"SALARY\", IntegerType(), True),\n",
    "                              StructField(\"COMMISSION_PCT\", IntegerType(), True),\n",
    "                              StructField(\"MANAGER_ID\", IntegerType(), True),\n",
    "                              StructField(\"DEPARTMENT_ID\", IntegerType(), True),\n",
    "                              ])\n",
    "\n",
    "dept_column = StructType([StructField(\"Dept_id\", IntegerType(), True),\n",
    "                         StructField(\"Dept_Name\", StringType(), True),\n",
    "                         StructField(\"Dept_Manager_id\", IntegerType(), True),\n",
    "                         StructField(\"Dept_Location_id\", IntegerType(), True),\n",
    "                         ])"
   ]
  },
  {
   "cell_type": "code",
   "execution_count": 16,
   "id": "097b2a6b",
   "metadata": {},
   "outputs": [
    {
     "name": "stdout",
     "output_type": "stream",
     "text": [
      "+-------+---------------+---------------+----------------+\n",
      "|Dept_id|      Dept_Name|Dept_Manager_id|Dept_Location_id|\n",
      "+-------+---------------+---------------+----------------+\n",
      "|     10| Administration|            200|            1700|\n",
      "|     20|      Marketing|            201|            1800|\n",
      "|     30|     Purchasing|            114|            1700|\n",
      "|     40|Human Resources|            203|            2400|\n",
      "|     50|       Shipping|            121|            1500|\n",
      "+-------+---------------+---------------+----------------+\n",
      "only showing top 5 rows\n",
      "\n",
      "+-----------+-------------+----------+\n",
      "|EMPLOYEE_ID|DEPARTMENT_ID|MANAGER_ID|\n",
      "+-----------+-------------+----------+\n",
      "|        198|           50|       124|\n",
      "|        199|           50|       124|\n",
      "|        200|           10|       101|\n",
      "|        201|           20|       100|\n",
      "|        202|           20|       201|\n",
      "+-----------+-------------+----------+\n",
      "only showing top 5 rows\n",
      "\n"
     ]
    }
   ],
   "source": [
    "dept_df = spark.read.csv(\"D:\\Spark\\Dataset\\Dataset_CSV\\Employee\\departments.csv\", schema=dept_column, header=True)\n",
    "employee_df = spark.read.csv(\"D:\\Spark\\Dataset\\Dataset_CSV\\Employee\\employees.csv\", schema=employee_column, header=True)\n",
    "\n",
    "\n",
    "df_dept_1 = (dept_df.select(dept_df.Dept_id,dept_df.Dept_Name,dept_df.Dept_Manager_id,dept_df.Dept_Location_id))\n",
    "            #\\.where(read_df.Dept_Location_id==1700))\n",
    "\n",
    "df_employee_1 = (employee_df.select(employee_df.EMPLOYEE_ID,employee_df.DEPARTMENT_ID,employee_df.MANAGER_ID))\n",
    "\n",
    "\n",
    "#print(df_dept_1.columns) -->['Dept_id', 'Dept_Name', 'Dept_Manager_id', 'Dept_Location_id']\n",
    "#print(df_dept_1.dtypes)  -->[('Dept_id', 'int'),('Dept_Name', 'string'),('Dept_Manager_id', 'int'),('Dept_Location_id', 'int')]\n",
    "#print(df_dept_1.head(3)) -->Row(Dept_id=10, Dept_Name='Administration', Dept_Manager_id=200, Dept_Location_id=1700)\n",
    "#print(df_dept_1.take(3)) -->Return like Head function but performance wise better\n",
    "#print(df_dept_1.schema)  -->StructType([StructField('Dept_id', IntegerType(), True), StructField('Dept_Name', StringType(), True), StructField('Dept_Manager_id', IntegerType(), True), StructField('Dept_Location_id', IntegerType(), True)])\n",
    "#print(dept_df.describe())-->StructType([StructField('Dept_id', IntegerType(), True), StructField('Dept_Name', StringType(), True), StructField('Dept_Manager_id', IntegerType(), True), StructField('Dept_Location_id', IntegerType(), True)])\n",
    "#print(dept_df.count())\n",
    "#print(employee_df.count())\n",
    "\n",
    "#dept_df.printSchema() root\",\n",
    "#                         |-- Dept_id: integer (nullable = true)\\n\",\n",
    "#                         |-- Dept_Name: string (nullable = true)\\n\",\n",
    "#                         |-- Dept_Manager_id: integer (nullable = true)\\n\",\n",
    "#                         |-- Dept_Location_id: integer (nullable = true)\\n\",\n",
    "\n",
    "\n",
    "df_dept_1.show(5)\n",
    "df_employee_1.show(5)\n",
    "\n",
    "\n",
    "spark.stop()"
   ]
  }
 ],
 "metadata": {
  "kernelspec": {
   "display_name": "Python 3",
   "language": "python",
   "name": "python3"
  },
  "language_info": {
   "codemirror_mode": {
    "name": "ipython",
    "version": 3
   },
   "file_extension": ".py",
   "mimetype": "text/x-python",
   "name": "python",
   "nbconvert_exporter": "python",
   "pygments_lexer": "ipython3",
   "version": "3.8.8"
  }
 },
 "nbformat": 4,
 "nbformat_minor": 5
}
